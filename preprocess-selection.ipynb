{
 "cells": [
  {
   "cell_type": "code",
   "execution_count": 1,
   "source": [
    "import vaex\n",
    "\n",
    "df = vaex.open(\"awesomebook/data/reserve.csv\")\n",
    "\n",
    "df[['reserve_id', 'hotel_id', 'customer_id', 'reserve_datetime']]"
   ],
   "outputs": [
    {
     "output_type": "execute_result",
     "data": {
      "text/html": [
       "<table>\n",
       "<thead>\n",
       "<tr><th>#                                </th><th>reserve_id  </th><th>hotel_id  </th><th>customer_id  </th><th>reserve_datetime   </th></tr>\n",
       "</thead>\n",
       "<tbody>\n",
       "<tr><td><i style='opacity: 0.6'>0</i>    </td><td>r1          </td><td>h_75      </td><td>c_1          </td><td>2016-03-06 13:09:42</td></tr>\n",
       "<tr><td><i style='opacity: 0.6'>1</i>    </td><td>r2          </td><td>h_219     </td><td>c_1          </td><td>2016-07-16 23:39:55</td></tr>\n",
       "<tr><td><i style='opacity: 0.6'>2</i>    </td><td>r3          </td><td>h_179     </td><td>c_1          </td><td>2016-09-24 10:03:17</td></tr>\n",
       "<tr><td><i style='opacity: 0.6'>3</i>    </td><td>r4          </td><td>h_214     </td><td>c_1          </td><td>2017-03-08 03:20:10</td></tr>\n",
       "<tr><td><i style='opacity: 0.6'>4</i>    </td><td>r5          </td><td>h_16      </td><td>c_1          </td><td>2017-09-05 19:50:37</td></tr>\n",
       "<tr><td>...                              </td><td>...         </td><td>...       </td><td>...          </td><td>...                </td></tr>\n",
       "<tr><td><i style='opacity: 0.6'>4,025</i></td><td>r4026       </td><td>h_129     </td><td>c_999        </td><td>2017-06-27 23:00:02</td></tr>\n",
       "<tr><td><i style='opacity: 0.6'>4,026</i></td><td>r4027       </td><td>h_97      </td><td>c_999        </td><td>2017-09-29 05:24:57</td></tr>\n",
       "<tr><td><i style='opacity: 0.6'>4,027</i></td><td>r4028       </td><td>h_27      </td><td>c_999        </td><td>2018-03-14 05:01:45</td></tr>\n",
       "<tr><td><i style='opacity: 0.6'>4,028</i></td><td>r4029       </td><td>h_48      </td><td>c_1000       </td><td>2016-04-16 15:20:17</td></tr>\n",
       "<tr><td><i style='opacity: 0.6'>4,029</i></td><td>r4030       </td><td>h_117     </td><td>c_1000       </td><td>2016-06-06 08:16:51</td></tr>\n",
       "</tbody>\n",
       "</table>"
      ],
      "text/plain": [
       "#      reserve_id    hotel_id    customer_id    reserve_datetime\n",
       "0      r1            h_75        c_1            2016-03-06 13:09:42\n",
       "1      r2            h_219       c_1            2016-07-16 23:39:55\n",
       "2      r3            h_179       c_1            2016-09-24 10:03:17\n",
       "3      r4            h_214       c_1            2017-03-08 03:20:10\n",
       "4      r5            h_16        c_1            2017-09-05 19:50:37\n",
       "...    ...           ...         ...            ...\n",
       "4,025  r4026         h_129       c_999          2017-06-27 23:00:02\n",
       "4,026  r4027         h_97        c_999          2017-09-29 05:24:57\n",
       "4,027  r4028         h_27        c_999          2018-03-14 05:01:45\n",
       "4,028  r4029         h_48        c_1000         2016-04-16 15:20:17\n",
       "4,029  r4030         h_117       c_1000         2016-06-06 08:16:51"
      ]
     },
     "metadata": {},
     "execution_count": 1
    }
   ],
   "metadata": {}
  },
  {
   "cell_type": "code",
   "execution_count": 36,
   "source": [
    "# change to datetime\n",
    "df['checkin_date'] = df['checkin_date'].astype('datetime64')\n",
    "\n",
    "# 範囲で抽出\n",
    "df[('2016-10-13' <= df.checkin_date) & (df.checkin_date <= '2016-10-14')]\n"
   ],
   "outputs": [
    {
     "output_type": "execute_result",
     "data": {
      "text/html": [
       "<table>\n",
       "<thead>\n",
       "<tr><th>#                             </th><th>reserve_id  </th><th>hotel_id  </th><th>customer_id  </th><th>reserve_datetime   </th><th>checkin_date                 </th><th>checkin_time  </th><th>checkout_date  </th><th>people_num  </th><th>total_price  </th></tr>\n",
       "</thead>\n",
       "<tbody>\n",
       "<tr><td><i style='opacity: 0.6'>0</i> </td><td>r48         </td><td>h_299     </td><td>c_8          </td><td>2016-10-05 08:53:39</td><td>2016-10-14 00:00:00.000000000</td><td>09:30:00      </td><td>2016-10-16     </td><td>1           </td><td>48400        </td></tr>\n",
       "<tr><td><i style='opacity: 0.6'>1</i> </td><td>r328        </td><td>h_48      </td><td>c_76         </td><td>2016-10-11 15:51:25</td><td>2016-10-14 00:00:00.000000000</td><td>11:00:00      </td><td>2016-10-16     </td><td>4           </td><td>360000       </td></tr>\n",
       "<tr><td><i style='opacity: 0.6'>2</i> </td><td>r960        </td><td>h_215     </td><td>c_237        </td><td>2016-09-19 05:51:20</td><td>2016-10-14 00:00:00.000000000</td><td>11:00:00      </td><td>2016-10-16     </td><td>4           </td><td>123200       </td></tr>\n",
       "<tr><td><i style='opacity: 0.6'>3</i> </td><td>r1226       </td><td>h_176     </td><td>c_300        </td><td>2016-09-19 22:11:19</td><td>2016-10-14 00:00:00.000000000</td><td>09:30:00      </td><td>2016-10-16     </td><td>4           </td><td>139200       </td></tr>\n",
       "<tr><td><i style='opacity: 0.6'>4</i> </td><td>r1961       </td><td>h_244     </td><td>c_486        </td><td>2016-09-19 03:05:50</td><td>2016-10-14 00:00:00.000000000</td><td>12:00:00      </td><td>2016-10-15     </td><td>1           </td><td>9900         </td></tr>\n",
       "<tr><td>...                           </td><td>...         </td><td>...       </td><td>...          </td><td>...                </td><td>...                          </td><td>...           </td><td>...            </td><td>...         </td><td>...          </td></tr>\n",
       "<tr><td><i style='opacity: 0.6'>10</i></td><td>r3381       </td><td>h_110     </td><td>c_844        </td><td>2016-09-17 17:44:02</td><td>2016-10-13 00:00:00.000000000</td><td>12:30:00      </td><td>2016-10-15     </td><td>1           </td><td>52800        </td></tr>\n",
       "<tr><td><i style='opacity: 0.6'>11</i></td><td>r3400       </td><td>h_20      </td><td>c_848        </td><td>2016-09-17 12:18:15</td><td>2016-10-14 00:00:00.000000000</td><td>11:00:00      </td><td>2016-10-15     </td><td>3           </td><td>21300        </td></tr>\n",
       "<tr><td><i style='opacity: 0.6'>12</i></td><td>r3444       </td><td>h_14      </td><td>c_859        </td><td>2016-10-03 17:26:00</td><td>2016-10-13 00:00:00.000000000</td><td>12:30:00      </td><td>2016-10-15     </td><td>3           </td><td>46200        </td></tr>\n",
       "<tr><td><i style='opacity: 0.6'>13</i></td><td>r3461       </td><td>h_105     </td><td>c_863        </td><td>2016-09-22 14:42:06</td><td>2016-10-14 00:00:00.000000000</td><td>11:00:00      </td><td>2016-10-16     </td><td>1           </td><td>20600        </td></tr>\n",
       "<tr><td><i style='opacity: 0.6'>14</i></td><td>r3694       </td><td>h_270     </td><td>c_919        </td><td>2016-09-27 07:26:21</td><td>2016-10-14 00:00:00.000000000</td><td>09:00:00      </td><td>2016-10-16     </td><td>1           </td><td>16600        </td></tr>\n",
       "</tbody>\n",
       "</table>"
      ],
      "text/plain": [
       "#    reserve_id    hotel_id    customer_id    reserve_datetime     checkin_date                   checkin_time    checkout_date    people_num    total_price\n",
       "0    r48           h_299       c_8            2016-10-05 08:53:39  2016-10-14 00:00:00.000000000  09:30:00        2016-10-16       1             48400\n",
       "1    r328          h_48        c_76           2016-10-11 15:51:25  2016-10-14 00:00:00.000000000  11:00:00        2016-10-16       4             360000\n",
       "2    r960          h_215       c_237          2016-09-19 05:51:20  2016-10-14 00:00:00.000000000  11:00:00        2016-10-16       4             123200\n",
       "3    r1226         h_176       c_300          2016-09-19 22:11:19  2016-10-14 00:00:00.000000000  09:30:00        2016-10-16       4             139200\n",
       "4    r1961         h_244       c_486          2016-09-19 03:05:50  2016-10-14 00:00:00.000000000  12:00:00        2016-10-15       1             9900\n",
       "...  ...           ...         ...            ...                  ...                            ...             ...              ...           ...\n",
       "10   r3381         h_110       c_844          2016-09-17 17:44:02  2016-10-13 00:00:00.000000000  12:30:00        2016-10-15       1             52800\n",
       "11   r3400         h_20        c_848          2016-09-17 12:18:15  2016-10-14 00:00:00.000000000  11:00:00        2016-10-15       3             21300\n",
       "12   r3444         h_14        c_859          2016-10-03 17:26:00  2016-10-13 00:00:00.000000000  12:30:00        2016-10-15       3             46200\n",
       "13   r3461         h_105       c_863          2016-09-22 14:42:06  2016-10-14 00:00:00.000000000  11:00:00        2016-10-16       1             20600\n",
       "14   r3694         h_270       c_919          2016-09-27 07:26:21  2016-10-14 00:00:00.000000000  09:00:00        2016-10-16       1             16600"
      ]
     },
     "metadata": {},
     "execution_count": 36
    }
   ],
   "metadata": {}
  },
  {
   "cell_type": "code",
   "execution_count": 42,
   "source": [
    "# サンプリング https://vaex.io/docs/api.html?highlight=sample#vaex.dataframe.DataFrame.sample\n",
    "df.sample(frac=0.5)"
   ],
   "outputs": [
    {
     "output_type": "execute_result",
     "data": {
      "text/html": [
       "<table>\n",
       "<thead>\n",
       "<tr><th>#                                </th><th>reserve_id  </th><th>hotel_id  </th><th>customer_id  </th><th>reserve_datetime   </th><th>checkin_date                 </th><th>checkin_time  </th><th>checkout_date  </th><th>people_num  </th><th>total_price  </th></tr>\n",
       "</thead>\n",
       "<tbody>\n",
       "<tr><td><i style='opacity: 0.6'>0</i>    </td><td>r3789       </td><td>h_209     </td><td>c_942        </td><td>2017-01-05 16:58:49</td><td>2017-01-08 00:00:00.000000000</td><td>12:30:00      </td><td>2017-01-09     </td><td>1           </td><td>17200        </td></tr>\n",
       "<tr><td><i style='opacity: 0.6'>1</i>    </td><td>r648        </td><td>h_167     </td><td>c_154        </td><td>2018-05-27 10:41:56</td><td>2018-06-06 00:00:00.000000000</td><td>10:00:00      </td><td>2018-06-09     </td><td>2           </td><td>167400       </td></tr>\n",
       "<tr><td><i style='opacity: 0.6'>2</i>    </td><td>r616        </td><td>h_264     </td><td>c_149        </td><td>2016-01-11 10:46:10</td><td>2016-01-22 00:00:00.000000000</td><td>10:00:00      </td><td>2016-01-23     </td><td>4           </td><td>52400        </td></tr>\n",
       "<tr><td><i style='opacity: 0.6'>3</i>    </td><td>r3464       </td><td>h_111     </td><td>c_863        </td><td>2018-01-25 01:03:06</td><td>2018-01-31 00:00:00.000000000</td><td>10:00:00      </td><td>2018-02-02     </td><td>1           </td><td>87200        </td></tr>\n",
       "<tr><td><i style='opacity: 0.6'>4</i>    </td><td>r745        </td><td>h_83      </td><td>c_180        </td><td>2016-05-18 03:34:18</td><td>2016-05-31 00:00:00.000000000</td><td>09:00:00      </td><td>2016-06-01     </td><td>4           </td><td>248800       </td></tr>\n",
       "<tr><td>...                              </td><td>...         </td><td>...       </td><td>...          </td><td>...                </td><td>...                          </td><td>...           </td><td>...            </td><td>...         </td><td>...          </td></tr>\n",
       "<tr><td><i style='opacity: 0.6'>2,010</i></td><td>r3679       </td><td>h_192     </td><td>c_916        </td><td>2016-04-15 13:54:59</td><td>2016-04-24 00:00:00.000000000</td><td>12:00:00      </td><td>2016-04-27     </td><td>3           </td><td>135000       </td></tr>\n",
       "<tr><td><i style='opacity: 0.6'>2,011</i></td><td>r3457       </td><td>h_234     </td><td>c_862        </td><td>2017-09-20 11:36:34</td><td>2017-10-13 00:00:00.000000000</td><td>10:00:00      </td><td>2017-10-15     </td><td>1           </td><td>11200        </td></tr>\n",
       "<tr><td><i style='opacity: 0.6'>2,012</i></td><td>r802        </td><td>h_254     </td><td>c_195        </td><td>2016-05-15 01:27:40</td><td>2016-06-04 00:00:00.000000000</td><td>10:30:00      </td><td>2016-06-07     </td><td>1           </td><td>15000        </td></tr>\n",
       "<tr><td><i style='opacity: 0.6'>2,013</i></td><td>r3223       </td><td>h_97      </td><td>c_808        </td><td>2017-05-05 16:06:15</td><td>2017-05-20 00:00:00.000000000</td><td>09:00:00      </td><td>2017-05-21     </td><td>4           </td><td>83600        </td></tr>\n",
       "<tr><td><i style='opacity: 0.6'>2,014</i></td><td>r1315       </td><td>h_198     </td><td>c_321        </td><td>2017-04-06 02:49:10</td><td>2017-04-07 00:00:00.000000000</td><td>10:30:00      </td><td>2017-04-10     </td><td>1           </td><td>57900        </td></tr>\n",
       "</tbody>\n",
       "</table>"
      ],
      "text/plain": [
       "#      reserve_id    hotel_id    customer_id    reserve_datetime     checkin_date                   checkin_time    checkout_date    people_num    total_price\n",
       "0      r3789         h_209       c_942          2017-01-05 16:58:49  2017-01-08 00:00:00.000000000  12:30:00        2017-01-09       1             17200\n",
       "1      r648          h_167       c_154          2018-05-27 10:41:56  2018-06-06 00:00:00.000000000  10:00:00        2018-06-09       2             167400\n",
       "2      r616          h_264       c_149          2016-01-11 10:46:10  2016-01-22 00:00:00.000000000  10:00:00        2016-01-23       4             52400\n",
       "3      r3464         h_111       c_863          2018-01-25 01:03:06  2018-01-31 00:00:00.000000000  10:00:00        2018-02-02       1             87200\n",
       "4      r745          h_83        c_180          2016-05-18 03:34:18  2016-05-31 00:00:00.000000000  09:00:00        2016-06-01       4             248800\n",
       "...    ...           ...         ...            ...                  ...                            ...             ...              ...           ...\n",
       "2,010  r3679         h_192       c_916          2016-04-15 13:54:59  2016-04-24 00:00:00.000000000  12:00:00        2016-04-27       3             135000\n",
       "2,011  r3457         h_234       c_862          2017-09-20 11:36:34  2017-10-13 00:00:00.000000000  10:00:00        2017-10-15       1             11200\n",
       "2,012  r802          h_254       c_195          2016-05-15 01:27:40  2016-06-04 00:00:00.000000000  10:30:00        2016-06-07       1             15000\n",
       "2,013  r3223         h_97        c_808          2017-05-05 16:06:15  2017-05-20 00:00:00.000000000  09:00:00        2017-05-21       4             83600\n",
       "2,014  r1315         h_198       c_321          2017-04-06 02:49:10  2017-04-07 00:00:00.000000000  10:30:00        2017-04-10       1             57900"
      ]
     },
     "metadata": {},
     "execution_count": 42
    }
   ],
   "metadata": {}
  },
  {
   "cell_type": "code",
   "execution_count": 50,
   "source": [
    "# 集約IDごとのサンプリング\n",
    "import pandas as pd\n",
    "\n",
    "# 顧客の中から複数人選ばない選び方\n",
    "target = pd.Series(df.unique('customer_id')).sample(frac=0.5)\n",
    "\n",
    "# 選ばれた50%の顧客のデータだけを取り出す\n",
    "df[df.customer_id.isin(target)]\n",
    "\n"
   ],
   "outputs": [
    {
     "output_type": "execute_result",
     "data": {
      "text/html": [
       "<table>\n",
       "<thead>\n",
       "<tr><th>#                                </th><th>reserve_id  </th><th>hotel_id  </th><th>customer_id  </th><th>reserve_datetime   </th><th>checkin_date                 </th><th>checkin_time  </th><th>checkout_date  </th><th>people_num  </th><th>total_price  </th></tr>\n",
       "</thead>\n",
       "<tbody>\n",
       "<tr><td><i style='opacity: 0.6'>0</i>    </td><td>r17         </td><td>h_115     </td><td>c_3          </td><td>2016-05-10 12:20:32</td><td>2016-05-17 00:00:00.000000000</td><td>10:00:00      </td><td>2016-05-19     </td><td>2           </td><td>164000       </td></tr>\n",
       "<tr><td><i style='opacity: 0.6'>1</i>    </td><td>r18         </td><td>h_132     </td><td>c_3          </td><td>2016-10-22 02:18:48</td><td>2016-11-12 00:00:00.000000000</td><td>12:00:00      </td><td>2016-11-13     </td><td>1           </td><td>20400        </td></tr>\n",
       "<tr><td><i style='opacity: 0.6'>2</i>    </td><td>r19         </td><td>h_23      </td><td>c_3          </td><td>2017-01-11 22:54:09</td><td>2017-02-08 00:00:00.000000000</td><td>10:00:00      </td><td>2017-02-10     </td><td>3           </td><td>390600       </td></tr>\n",
       "<tr><td><i style='opacity: 0.6'>3</i>    </td><td>r20         </td><td>h_292     </td><td>c_3          </td><td>2017-02-23 07:10:30</td><td>2017-03-03 00:00:00.000000000</td><td>11:00:00      </td><td>2017-03-04     </td><td>2           </td><td>18200        </td></tr>\n",
       "<tr><td><i style='opacity: 0.6'>4</i>    </td><td>r21         </td><td>h_153     </td><td>c_3          </td><td>2017-04-06 18:12:10</td><td>2017-04-16 00:00:00.000000000</td><td>09:00:00      </td><td>2017-04-19     </td><td>3           </td><td>126900       </td></tr>\n",
       "<tr><td>...                              </td><td>...         </td><td>...       </td><td>...          </td><td>...                </td><td>...                          </td><td>...           </td><td>...            </td><td>...         </td><td>...          </td></tr>\n",
       "<tr><td><i style='opacity: 0.6'>2,046</i></td><td>r4026       </td><td>h_129     </td><td>c_999        </td><td>2017-06-27 23:00:02</td><td>2017-07-10 00:00:00.000000000</td><td>09:30:00      </td><td>2017-07-11     </td><td>2           </td><td>16000        </td></tr>\n",
       "<tr><td><i style='opacity: 0.6'>2,047</i></td><td>r4027       </td><td>h_97      </td><td>c_999        </td><td>2017-09-29 05:24:57</td><td>2017-10-09 00:00:00.000000000</td><td>10:30:00      </td><td>2017-10-10     </td><td>2           </td><td>41800        </td></tr>\n",
       "<tr><td><i style='opacity: 0.6'>2,048</i></td><td>r4028       </td><td>h_27      </td><td>c_999        </td><td>2018-03-14 05:01:45</td><td>2018-04-02 00:00:00.000000000</td><td>11:30:00      </td><td>2018-04-04     </td><td>2           </td><td>74800        </td></tr>\n",
       "<tr><td><i style='opacity: 0.6'>2,049</i></td><td>r4029       </td><td>h_48      </td><td>c_1000       </td><td>2016-04-16 15:20:17</td><td>2016-05-10 00:00:00.000000000</td><td>09:30:00      </td><td>2016-05-13     </td><td>4           </td><td>540000       </td></tr>\n",
       "<tr><td><i style='opacity: 0.6'>2,050</i></td><td>r4030       </td><td>h_117     </td><td>c_1000       </td><td>2016-06-06 08:16:51</td><td>2016-07-06 00:00:00.000000000</td><td>09:00:00      </td><td>2016-07-09     </td><td>1           </td><td>44100        </td></tr>\n",
       "</tbody>\n",
       "</table>"
      ],
      "text/plain": [
       "#      reserve_id    hotel_id    customer_id    reserve_datetime     checkin_date                   checkin_time    checkout_date    people_num    total_price\n",
       "0      r17           h_115       c_3            2016-05-10 12:20:32  2016-05-17 00:00:00.000000000  10:00:00        2016-05-19       2             164000\n",
       "1      r18           h_132       c_3            2016-10-22 02:18:48  2016-11-12 00:00:00.000000000  12:00:00        2016-11-13       1             20400\n",
       "2      r19           h_23        c_3            2017-01-11 22:54:09  2017-02-08 00:00:00.000000000  10:00:00        2017-02-10       3             390600\n",
       "3      r20           h_292       c_3            2017-02-23 07:10:30  2017-03-03 00:00:00.000000000  11:00:00        2017-03-04       2             18200\n",
       "4      r21           h_153       c_3            2017-04-06 18:12:10  2017-04-16 00:00:00.000000000  09:00:00        2017-04-19       3             126900\n",
       "...    ...           ...         ...            ...                  ...                            ...             ...              ...           ...\n",
       "2,046  r4026         h_129       c_999          2017-06-27 23:00:02  2017-07-10 00:00:00.000000000  09:30:00        2017-07-11       2             16000\n",
       "2,047  r4027         h_97        c_999          2017-09-29 05:24:57  2017-10-09 00:00:00.000000000  10:30:00        2017-10-10       2             41800\n",
       "2,048  r4028         h_27        c_999          2018-03-14 05:01:45  2018-04-02 00:00:00.000000000  11:30:00        2018-04-04       2             74800\n",
       "2,049  r4029         h_48        c_1000         2016-04-16 15:20:17  2016-05-10 00:00:00.000000000  09:30:00        2016-05-13       4             540000\n",
       "2,050  r4030         h_117       c_1000         2016-06-06 08:16:51  2016-07-06 00:00:00.000000000  09:00:00        2016-07-09       1             44100"
      ]
     },
     "metadata": {},
     "execution_count": 50
    }
   ],
   "metadata": {}
  },
  {
   "cell_type": "code",
   "execution_count": null,
   "source": [],
   "outputs": [],
   "metadata": {}
  }
 ],
 "metadata": {
  "orig_nbformat": 4,
  "language_info": {
   "name": "python",
   "version": "3.8.7",
   "mimetype": "text/x-python",
   "codemirror_mode": {
    "name": "ipython",
    "version": 3
   },
   "pygments_lexer": "ipython3",
   "nbconvert_exporter": "python",
   "file_extension": ".py"
  },
  "kernelspec": {
   "name": "python3",
   "display_name": "Python 3.8.7 64-bit ('vaex-3.8.7': pyenv)"
  },
  "interpreter": {
   "hash": "4688a0289e47efa368e376aa58f375024a2f81ff4904880a932471cdc5989780"
  }
 },
 "nbformat": 4,
 "nbformat_minor": 2
}