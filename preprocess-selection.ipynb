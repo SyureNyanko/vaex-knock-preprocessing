{
 "cells": [
  {
   "cell_type": "code",
   "execution_count": 1,
   "source": [
    "import vaex\n",
    "\n",
    "df = vaex.open(\"awesomebook/data/reserve.csv\")\n",
    "\n",
    "df[['reserve_id', 'hotel_id', 'customer_id', 'reserve_datetime']]"
   ],
   "outputs": [
    {
     "output_type": "execute_result",
     "data": {
      "text/html": [
       "<table>\n",
       "<thead>\n",
       "<tr><th>#                                </th><th>reserve_id  </th><th>hotel_id  </th><th>customer_id  </th><th>reserve_datetime   </th></tr>\n",
       "</thead>\n",
       "<tbody>\n",
       "<tr><td><i style='opacity: 0.6'>0</i>    </td><td>r1          </td><td>h_75      </td><td>c_1          </td><td>2016-03-06 13:09:42</td></tr>\n",
       "<tr><td><i style='opacity: 0.6'>1</i>    </td><td>r2          </td><td>h_219     </td><td>c_1          </td><td>2016-07-16 23:39:55</td></tr>\n",
       "<tr><td><i style='opacity: 0.6'>2</i>    </td><td>r3          </td><td>h_179     </td><td>c_1          </td><td>2016-09-24 10:03:17</td></tr>\n",
       "<tr><td><i style='opacity: 0.6'>3</i>    </td><td>r4          </td><td>h_214     </td><td>c_1          </td><td>2017-03-08 03:20:10</td></tr>\n",
       "<tr><td><i style='opacity: 0.6'>4</i>    </td><td>r5          </td><td>h_16      </td><td>c_1          </td><td>2017-09-05 19:50:37</td></tr>\n",
       "<tr><td>...                              </td><td>...         </td><td>...       </td><td>...          </td><td>...                </td></tr>\n",
       "<tr><td><i style='opacity: 0.6'>4,025</i></td><td>r4026       </td><td>h_129     </td><td>c_999        </td><td>2017-06-27 23:00:02</td></tr>\n",
       "<tr><td><i style='opacity: 0.6'>4,026</i></td><td>r4027       </td><td>h_97      </td><td>c_999        </td><td>2017-09-29 05:24:57</td></tr>\n",
       "<tr><td><i style='opacity: 0.6'>4,027</i></td><td>r4028       </td><td>h_27      </td><td>c_999        </td><td>2018-03-14 05:01:45</td></tr>\n",
       "<tr><td><i style='opacity: 0.6'>4,028</i></td><td>r4029       </td><td>h_48      </td><td>c_1000       </td><td>2016-04-16 15:20:17</td></tr>\n",
       "<tr><td><i style='opacity: 0.6'>4,029</i></td><td>r4030       </td><td>h_117     </td><td>c_1000       </td><td>2016-06-06 08:16:51</td></tr>\n",
       "</tbody>\n",
       "</table>"
      ],
      "text/plain": [
       "#      reserve_id    hotel_id    customer_id    reserve_datetime\n",
       "0      r1            h_75        c_1            2016-03-06 13:09:42\n",
       "1      r2            h_219       c_1            2016-07-16 23:39:55\n",
       "2      r3            h_179       c_1            2016-09-24 10:03:17\n",
       "3      r4            h_214       c_1            2017-03-08 03:20:10\n",
       "4      r5            h_16        c_1            2017-09-05 19:50:37\n",
       "...    ...           ...         ...            ...\n",
       "4,025  r4026         h_129       c_999          2017-06-27 23:00:02\n",
       "4,026  r4027         h_97        c_999          2017-09-29 05:24:57\n",
       "4,027  r4028         h_27        c_999          2018-03-14 05:01:45\n",
       "4,028  r4029         h_48        c_1000         2016-04-16 15:20:17\n",
       "4,029  r4030         h_117       c_1000         2016-06-06 08:16:51"
      ]
     },
     "metadata": {},
     "execution_count": 1
    }
   ],
   "metadata": {}
  },
  {
   "cell_type": "code",
   "execution_count": 36,
   "source": [
    "# change to datetime\n",
    "df['checkin_date'] = df['checkin_date'].astype('datetime64')\n",
    "\n",
    "import numpy as np\n",
    "start_date=np.datetime64()\n",
    "\n",
    "# 範囲で抽出\n",
    "df[('2016-10-13' <= df.checkin_date) & (df.checkin_date <= '2016-10-14')]\n"
   ],
   "outputs": [
    {
     "output_type": "execute_result",
     "data": {
      "text/html": [
       "<table>\n",
       "<thead>\n",
       "<tr><th>#                             </th><th>reserve_id  </th><th>hotel_id  </th><th>customer_id  </th><th>reserve_datetime   </th><th>checkin_date                 </th><th>checkin_time  </th><th>checkout_date  </th><th>people_num  </th><th>total_price  </th></tr>\n",
       "</thead>\n",
       "<tbody>\n",
       "<tr><td><i style='opacity: 0.6'>0</i> </td><td>r48         </td><td>h_299     </td><td>c_8          </td><td>2016-10-05 08:53:39</td><td>2016-10-14 00:00:00.000000000</td><td>09:30:00      </td><td>2016-10-16     </td><td>1           </td><td>48400        </td></tr>\n",
       "<tr><td><i style='opacity: 0.6'>1</i> </td><td>r328        </td><td>h_48      </td><td>c_76         </td><td>2016-10-11 15:51:25</td><td>2016-10-14 00:00:00.000000000</td><td>11:00:00      </td><td>2016-10-16     </td><td>4           </td><td>360000       </td></tr>\n",
       "<tr><td><i style='opacity: 0.6'>2</i> </td><td>r960        </td><td>h_215     </td><td>c_237        </td><td>2016-09-19 05:51:20</td><td>2016-10-14 00:00:00.000000000</td><td>11:00:00      </td><td>2016-10-16     </td><td>4           </td><td>123200       </td></tr>\n",
       "<tr><td><i style='opacity: 0.6'>3</i> </td><td>r1226       </td><td>h_176     </td><td>c_300        </td><td>2016-09-19 22:11:19</td><td>2016-10-14 00:00:00.000000000</td><td>09:30:00      </td><td>2016-10-16     </td><td>4           </td><td>139200       </td></tr>\n",
       "<tr><td><i style='opacity: 0.6'>4</i> </td><td>r1961       </td><td>h_244     </td><td>c_486        </td><td>2016-09-19 03:05:50</td><td>2016-10-14 00:00:00.000000000</td><td>12:00:00      </td><td>2016-10-15     </td><td>1           </td><td>9900         </td></tr>\n",
       "<tr><td>...                           </td><td>...         </td><td>...       </td><td>...          </td><td>...                </td><td>...                          </td><td>...           </td><td>...            </td><td>...         </td><td>...          </td></tr>\n",
       "<tr><td><i style='opacity: 0.6'>10</i></td><td>r3381       </td><td>h_110     </td><td>c_844        </td><td>2016-09-17 17:44:02</td><td>2016-10-13 00:00:00.000000000</td><td>12:30:00      </td><td>2016-10-15     </td><td>1           </td><td>52800        </td></tr>\n",
       "<tr><td><i style='opacity: 0.6'>11</i></td><td>r3400       </td><td>h_20      </td><td>c_848        </td><td>2016-09-17 12:18:15</td><td>2016-10-14 00:00:00.000000000</td><td>11:00:00      </td><td>2016-10-15     </td><td>3           </td><td>21300        </td></tr>\n",
       "<tr><td><i style='opacity: 0.6'>12</i></td><td>r3444       </td><td>h_14      </td><td>c_859        </td><td>2016-10-03 17:26:00</td><td>2016-10-13 00:00:00.000000000</td><td>12:30:00      </td><td>2016-10-15     </td><td>3           </td><td>46200        </td></tr>\n",
       "<tr><td><i style='opacity: 0.6'>13</i></td><td>r3461       </td><td>h_105     </td><td>c_863        </td><td>2016-09-22 14:42:06</td><td>2016-10-14 00:00:00.000000000</td><td>11:00:00      </td><td>2016-10-16     </td><td>1           </td><td>20600        </td></tr>\n",
       "<tr><td><i style='opacity: 0.6'>14</i></td><td>r3694       </td><td>h_270     </td><td>c_919        </td><td>2016-09-27 07:26:21</td><td>2016-10-14 00:00:00.000000000</td><td>09:00:00      </td><td>2016-10-16     </td><td>1           </td><td>16600        </td></tr>\n",
       "</tbody>\n",
       "</table>"
      ],
      "text/plain": [
       "#    reserve_id    hotel_id    customer_id    reserve_datetime     checkin_date                   checkin_time    checkout_date    people_num    total_price\n",
       "0    r48           h_299       c_8            2016-10-05 08:53:39  2016-10-14 00:00:00.000000000  09:30:00        2016-10-16       1             48400\n",
       "1    r328          h_48        c_76           2016-10-11 15:51:25  2016-10-14 00:00:00.000000000  11:00:00        2016-10-16       4             360000\n",
       "2    r960          h_215       c_237          2016-09-19 05:51:20  2016-10-14 00:00:00.000000000  11:00:00        2016-10-16       4             123200\n",
       "3    r1226         h_176       c_300          2016-09-19 22:11:19  2016-10-14 00:00:00.000000000  09:30:00        2016-10-16       4             139200\n",
       "4    r1961         h_244       c_486          2016-09-19 03:05:50  2016-10-14 00:00:00.000000000  12:00:00        2016-10-15       1             9900\n",
       "...  ...           ...         ...            ...                  ...                            ...             ...              ...           ...\n",
       "10   r3381         h_110       c_844          2016-09-17 17:44:02  2016-10-13 00:00:00.000000000  12:30:00        2016-10-15       1             52800\n",
       "11   r3400         h_20        c_848          2016-09-17 12:18:15  2016-10-14 00:00:00.000000000  11:00:00        2016-10-15       3             21300\n",
       "12   r3444         h_14        c_859          2016-10-03 17:26:00  2016-10-13 00:00:00.000000000  12:30:00        2016-10-15       3             46200\n",
       "13   r3461         h_105       c_863          2016-09-22 14:42:06  2016-10-14 00:00:00.000000000  11:00:00        2016-10-16       1             20600\n",
       "14   r3694         h_270       c_919          2016-09-27 07:26:21  2016-10-14 00:00:00.000000000  09:00:00        2016-10-16       1             16600"
      ]
     },
     "metadata": {},
     "execution_count": 36
    }
   ],
   "metadata": {}
  }
 ],
 "metadata": {
  "orig_nbformat": 4,
  "language_info": {
   "name": "python",
   "version": "3.8.7",
   "mimetype": "text/x-python",
   "codemirror_mode": {
    "name": "ipython",
    "version": 3
   },
   "pygments_lexer": "ipython3",
   "nbconvert_exporter": "python",
   "file_extension": ".py"
  },
  "kernelspec": {
   "name": "python3",
   "display_name": "Python 3.8.7 64-bit ('vaex-3.8.7': pyenv)"
  },
  "interpreter": {
   "hash": "4688a0289e47efa368e376aa58f375024a2f81ff4904880a932471cdc5989780"
  }
 },
 "nbformat": 4,
 "nbformat_minor": 2
}